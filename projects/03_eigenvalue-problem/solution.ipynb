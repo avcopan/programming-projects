{
 "cells": [
  {
   "cell_type": "markdown",
   "metadata": {},
   "source": [
    "### Solution: Matrix Diagonalization"
   ]
  },
  {
   "cell_type": "code",
   "execution_count": 1,
   "metadata": {},
   "outputs": [
    {
     "name": "stdout",
     "output_type": "stream",
     "text": [
      "[2. 4.]\n",
      "[[-0.70710678  0.70710678]\n",
      " [ 0.70710678  0.70710678]]\n"
     ]
    }
   ],
   "source": [
    "# 1. Use numpy.linalg.eigh to diagonalize the matrix A (again).\n",
    "import numpy\n",
    "\n",
    "A = numpy.array([[3, 1], [1, 3]])\n",
    "soln = numpy.linalg.eigh(A)\n",
    "print(soln.eigenvalues)\n",
    "print(soln.eigenvectors)"
   ]
  },
  {
   "cell_type": "code",
   "execution_count": 2,
   "metadata": {},
   "outputs": [
    {
     "name": "stdout",
     "output_type": "stream",
     "text": [
      "[[1.00000000e+00 2.23711432e-17]\n",
      " [2.23711432e-17 1.00000000e+00]]\n",
      "[[1. 0.]\n",
      " [0. 1.]]\n",
      "Is V^T . V = I? Yes\n"
     ]
    }
   ],
   "source": [
    "# 2. Verify that the transpose of the eigenvector matrix V is its inverse.\n",
    "V = soln.eigenvectors\n",
    "\n",
    "# Multiply V^T . V\n",
    "I_test = V.T @ V\n",
    "print(I_test)\n",
    "\n",
    "# Form an identity matrix for comparison\n",
    "I_true = numpy.eye(*V.shape)\n",
    "print(I_true)\n",
    "\n",
    "# Check that the two are equal, within floating point precision\n",
    "print(\"Is V^T . V = I?\", \"Yes\" if numpy.allclose(I_test, I_true) else \"No\")"
   ]
  },
  {
   "cell_type": "code",
   "execution_count": 3,
   "metadata": {},
   "outputs": [
    {
     "name": "stdout",
     "output_type": "stream",
     "text": [
      "[[2. 0.]\n",
      " [0. 4.]]\n"
     ]
    }
   ],
   "source": [
    "# 3. Build the diagonal matrix of eigenvalues, Λ.\n",
    "Λ = numpy.diag(soln.eigenvalues)\n",
    "print(Λ)"
   ]
  },
  {
   "cell_type": "code",
   "execution_count": 4,
   "metadata": {},
   "outputs": [
    {
     "name": "stdout",
     "output_type": "stream",
     "text": [
      "[[3. 1.]\n",
      " [1. 3.]]\n",
      "Is V Λ V^T = A? Yes\n"
     ]
    }
   ],
   "source": [
    "# 4. Verify that the last expression we gave for the eigendecomposition holds true.\n",
    "\n",
    "# Evaluate the decomposition\n",
    "A_test = V @ Λ @ V.T\n",
    "print(A_test)\n",
    "\n",
    "# Check that it equals the original matrix, within floating point precision\n",
    "print(\"Is V Λ V^T = A?\", \"Yes\" if numpy.allclose(A_test, A) else \"No\")"
   ]
  }
 ],
 "metadata": {
  "kernelspec": {
   "display_name": "default",
   "language": "python",
   "name": "python3"
  },
  "language_info": {
   "codemirror_mode": {
    "name": "ipython",
    "version": 3
   },
   "file_extension": ".py",
   "mimetype": "text/x-python",
   "name": "python",
   "nbconvert_exporter": "python",
   "pygments_lexer": "ipython3",
   "version": "3.11.11"
  }
 },
 "nbformat": 4,
 "nbformat_minor": 2
}
