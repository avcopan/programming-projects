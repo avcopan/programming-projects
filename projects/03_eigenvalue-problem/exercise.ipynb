{
 "cells": [
  {
   "cell_type": "markdown",
   "metadata": {},
   "source": [
    "### Exercise: Matrix Diagonalization\n",
    "\n",
    "Do this exercise after reading through [background.ipynb](background.ipynb).\n",
    "\n",
    "In this tutorial, we found the eigenvectors of a symmetric matrix.\n",
    "In general, this can be written as follows.\n",
    "$$\n",
    "  \\mathbf{A}\n",
    "  \\mathbf{v}_i\n",
    "  =\n",
    "  \\lambda_i\n",
    "  \\mathbf{v}_i\n",
    "$$\n",
    "Symmetric matrices are always guaranteed to have $n$ distinct eigenvectors,\n",
    "where $n$ is the dimension of the space.\n",
    "Let us collect these $n$ eigenvectors as columns of a matrix.\n",
    "$$\n",
    "  \\mathbf{V}\n",
    "  =\n",
    "  \\begin{pmatrix}\n",
    "    \\mathbf{v}_1 & \\cdots & \\mathbf{v}_n\n",
    "  \\end{pmatrix}\n",
    "$$\n",
    "This is what NumPy returned to us in the tutorial.\n",
    "Now, consider what happens when we multiply this matrix by $\\mathbf{A}$.\n",
    "$$\n",
    "  \\mathbf{A}\n",
    "  \\mathbf{V}\n",
    "  =\n",
    "  \\begin{pmatrix}\n",
    "    \\mathbf{A} \\mathbf{v}_1 & \\cdots & \\mathbf{A}\\mathbf{v}_n\n",
    "  \\end{pmatrix}\n",
    "  =\n",
    "  \\begin{pmatrix}\n",
    "    \\lambda_1 \\mathbf{v}_1 & \\cdots & \\lambda_n\\mathbf{v}_n\n",
    "  \\end{pmatrix}\n",
    "$$\n",
    "Here, we have noted the matrix multiplication $\\mathbf{A}\\mathbf{V}$ is\n",
    "equivalent to multiplying each column of $\\mathbf{V}$ by $\\mathbf{A}$ and then\n",
    "used our eigenvalue equation.\n",
    "If we now collect our eigenvalues into a diagonal matrix\n",
    "$$\n",
    "  \\mathbf{\\Lambda}\n",
    "  =\n",
    "  \\begin{pmatrix}\n",
    "    \\lambda_1 & 0 & \\cdots & 0 \\\\\n",
    "    0 & \\lambda_2 & \\cdots & 0 \\\\\n",
    "    \\vdots & \\vdots & \\ddots & \\vdots \\\\\n",
    "    0 & 0 & \\cdots & \\lambda_n \\\\\n",
    "  \\end{pmatrix}\n",
    "$$\n",
    "We can write the above equation as follows.\n",
    "$$\n",
    "  \\mathbf{A}\n",
    "  \\mathbf{V}\n",
    "  =\n",
    "  \\mathbf{V}\n",
    "  \\mathbf{\\Lambda}\n",
    "$$\n",
    "Multiplying both sides from the left by the inverse matrix $\\mathbf{V}^{-1}$\n",
    "gives the following.\n",
    "$$\n",
    "  \\mathbf{A}\n",
    "  =\n",
    "  \\mathbf{V}\n",
    "  \\mathbf{\\Lambda}\n",
    "  \\mathbf{V}^{-1}\n",
    "$$\n",
    "This gives us an expression for $\\mathbf{A}$ in terms of its eigenvalues and\n",
    "eigenvectors.\n",
    "This is the\n",
    "[*eigendecomposition*](https://en.wikipedia.org/wiki/Eigendecomposition_of_a_matrix#Eigendecomposition_of_a_matrix)\n",
    "of our matrix, which is often referred to as\n",
    "[\"diagonalization\"](https://en.wikipedia.org/wiki/Diagonalizable_matrix).\n",
    "\n",
    "Not all matrices have $n$ distinct eigenvectors to allow diagonalization.\n",
    "This is one of the special properties of\n",
    "[*Hermitian*](https://en.wikipedia.org/wiki/Hermitian_matrix)\n",
    "or \"symmetric\" matrices.\n",
    "Another special property of these matrices is that their eigenvectors are *orthogonal*.\n",
    "$$\n",
    "  \\mathbf{v}_i \\cdot\n",
    "  \\mathbf{v}_j\n",
    "  =\n",
    "  \\begin{cases}\n",
    "    \\|\\mathbf{v}_i\\|^2 & i = j \\\\\n",
    "    0 & i \\neq j\n",
    "  \\end{cases}\n",
    "$$\n",
    "Here, $\\|\\mathbf{v}_i\\|$ refers to the length of the vector $\\mathbf{v}_i$.\n",
    "Since the length of an eigenvector is arbitrary, the direction is what makes it an eigenvector, we can *normalize* our eigenvectors so that they each have length 1.\n",
    "In this case, the above condition can be written as follows.\n",
    "$$\n",
    "  \\mathbf{v}_i \\cdot\n",
    "  \\mathbf{v}_j\n",
    "  =\n",
    "  \\delta_{ij}\n",
    "$$\n",
    "Here, $\\delta_{ij}$ is the\n",
    "[Kronecker delta](https://en.wikipedia.org/wiki/Kronecker_delta),\n",
    "which evaluates to $1$ if $i=j$ and $0$ otherwise.\n",
    "A convenient outcome of this is that the transpose of the eigenvector matrix is its inverse.\n",
    "$$\n",
    "  \\mathbf{V}^\\dagger\n",
    "  \\mathbf{V}\n",
    "  =\n",
    "  \\begin{pmatrix}\n",
    "    \\mathbf{v}_1\\cdot\\mathbf{v}_1 & \\mathbf{v}_1\\cdot\\mathbf{v}_2 & \\cdots & \\mathbf{v}_1\\cdot\\mathbf{v}_n \\\\\n",
    "    \\mathbf{v}_2\\cdot\\mathbf{v}_1 & \\mathbf{v}_2\\cdot\\mathbf{v}_2 & \\cdots & \\mathbf{v}_2\\cdot\\mathbf{v}_n \\\\\n",
    "    \\vdots & \\vdots & \\ddots & \\vdots \\\\\n",
    "    \\mathbf{v}_n\\cdot\\mathbf{v}_1 & \\mathbf{v}_n\\cdot\\mathbf{v}_2 & \\cdots & \\mathbf{v}_n\\cdot\\mathbf{v}_n \\\\\n",
    "  \\end{pmatrix}\n",
    "  =\n",
    "  \\begin{pmatrix}\n",
    "    1 & 0 & \\cdots & 0 \\\\\n",
    "    0 & 1 & \\cdots & 0 \\\\\n",
    "    \\vdots & \\vdots & \\ddots & \\vdots \\\\\n",
    "    0 & 0 & \\cdots & 1 \\\\\n",
    "  \\end{pmatrix}\n",
    "  =\n",
    "  \\mathbf{1}\n",
    "$$\n",
    "Here, $\\mathbf{1}$ is the \"identity matrix\", sometimes known as the \"unit matrix\".\n",
    "This allows us to write the eigendecomposition of our Hermitian matrix even more\n",
    "simply as follows.\n",
    "$$\n",
    "  \\mathbf{A}\n",
    "  =\n",
    "  \\mathbf{V}\n",
    "  \\mathbf{\\Lambda}\n",
    "  \\mathbf{V}^\\dagger\n",
    "$$"
   ]
  },
  {
   "cell_type": "markdown",
   "metadata": {},
   "source": [
    "**Exercise.** To get more practice with `NumPy`'s linear algebra routines, and to get a better\n",
    "grasp of the above concepts, verify the above properties for the matrix from the\n",
    "tutorial.\n",
    "$$\n",
    "  \\mathbf{A}\n",
    "  =\n",
    "  \\begin{pmatrix} 3 & 1 \\\\ 1 & 3 \\end{pmatrix}\n",
    "$$\n",
    "Specifically, your assignment is to do the following:\n",
    "\n",
    "1. Use `numpy.linalg.eigh` to diagonalize the matrix $\\mathbf{A}$ (again).\n",
    "2. Verify that the transpose of the eigenvector matrix $\\mathbf{V}$ is its inverse.\n",
    "3. Build the diagonal matrix of eigenvalues, $\\mathbf{\\Lambda}$.\n",
    "4. Verify that the last expression we gave for the eigendecomposition holds true."
   ]
  },
  {
   "cell_type": "code",
   "execution_count": 1,
   "metadata": {},
   "outputs": [
    {
     "name": "stdout",
     "output_type": "stream",
     "text": [
      "Your code goes here.\n"
     ]
    }
   ],
   "source": [
    "# 1. Use numpy.linalg.eigh to diagonalize the matrix A (again).\n",
    "print(\"Your code goes here.\")"
   ]
  },
  {
   "cell_type": "code",
   "execution_count": 2,
   "metadata": {},
   "outputs": [
    {
     "name": "stdout",
     "output_type": "stream",
     "text": [
      "Your code goes here.\n"
     ]
    }
   ],
   "source": [
    "# 2. Verify that the transpose of the eigenvector matrix V is its inverse.\n",
    "print(\"Your code goes here.\")"
   ]
  },
  {
   "cell_type": "code",
   "execution_count": 3,
   "metadata": {},
   "outputs": [
    {
     "name": "stdout",
     "output_type": "stream",
     "text": [
      "Your code goes here.\n"
     ]
    }
   ],
   "source": [
    "# 3. Build the diagonal matrix of eigenvalues, Λ.\n",
    "print(\"Your code goes here.\")"
   ]
  },
  {
   "cell_type": "code",
   "execution_count": 4,
   "metadata": {},
   "outputs": [
    {
     "name": "stdout",
     "output_type": "stream",
     "text": [
      "Your code goes here.\n"
     ]
    }
   ],
   "source": [
    "# 4. Verify that the last expression we gave for the eigendecomposition holds true.\n",
    "print(\"Your code goes here.\")"
   ]
  }
 ],
 "metadata": {
  "kernelspec": {
   "display_name": "default",
   "language": "python",
   "name": "python3"
  },
  "language_info": {
   "codemirror_mode": {
    "name": "ipython",
    "version": 3
   },
   "file_extension": ".py",
   "mimetype": "text/x-python",
   "name": "python",
   "nbconvert_exporter": "python",
   "pygments_lexer": "ipython3",
   "version": "3.11.11"
  }
 },
 "nbformat": 4,
 "nbformat_minor": 2
}
