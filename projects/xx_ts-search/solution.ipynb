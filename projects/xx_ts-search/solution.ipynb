{
 "cells": [
  {
   "cell_type": "markdown",
   "metadata": {},
   "source": [
    "I didn't get anywhere with this, but I would like to do a scan to find the TS of the 1,3 HO2 elimination (as opposed to the 1,2).\n",
    "\n",
    "*Note* it may take a second to think about why a 1,3 HO2 elimation is possible in this case."
   ]
  },
  {
   "cell_type": "code",
   "execution_count": 1,
   "metadata": {},
   "outputs": [],
   "source": [
    "# 1. Generate a starting structure from a SMILES string using `protomol`\n",
    "from protomol import smiles\n",
    "\n",
    "smi = \"[O]OC1C=CCC1\"  # SMILES formula for propyl radical\n",
    "\n",
    "# Generate a geometry for the SMILES formula\n",
    "geo = smiles.geometry(smi)"
   ]
  },
  {
   "cell_type": "code",
   "execution_count": 2,
   "metadata": {},
   "outputs": [],
   "source": [
    "# 2. Optimize the structure with GFN2-xTB using `qcop`\n",
    "import qcio\n",
    "import qcop\n",
    "from protomol import qc\n",
    "\n",
    "struc = qc.struc.from_geometry(geo)\n",
    "prog_inp = qcio.ProgramInput(\n",
    "    structure=struc, calctype=\"optimization\", model={\"method\": \"gfn2\"}\n",
    ")\n",
    "prog_out = qcop.compute(\"crest\", prog_inp)\n",
    "\n",
    "stc = prog_out.results.final_structure"
   ]
  },
  {
   "cell_type": "code",
   "execution_count": 3,
   "metadata": {},
   "outputs": [
    {
     "data": {
      "application/3dmoljs_load.v0": "<div id=\"3dmolviewer_17405899072149293\"  style=\"position: relative; width: 600px; height: 450px;\">\n        <p id=\"3dmolwarning_17405899072149293\" style=\"background-color:#ffcccc;color:black\">3Dmol.js failed to load for some reason.  Please check your browser console for error messages.<br></p>\n        </div>\n<script>\n\nvar loadScriptAsync = function(uri){\n  return new Promise((resolve, reject) => {\n    //this is to ignore the existence of requirejs amd\n    var savedexports, savedmodule;\n    if (typeof exports !== 'undefined') savedexports = exports;\n    else exports = {}\n    if (typeof module !== 'undefined') savedmodule = module;\n    else module = {}\n\n    var tag = document.createElement('script');\n    tag.src = uri;\n    tag.async = true;\n    tag.onload = () => {\n        exports = savedexports;\n        module = savedmodule;\n        resolve();\n    };\n  var firstScriptTag = document.getElementsByTagName('script')[0];\n  firstScriptTag.parentNode.insertBefore(tag, firstScriptTag);\n});\n};\n\nif(typeof $3Dmolpromise === 'undefined') {\n$3Dmolpromise = null;\n  $3Dmolpromise = loadScriptAsync('https://cdnjs.cloudflare.com/ajax/libs/3Dmol/2.4.2/3Dmol-min.js');\n}\n\nvar viewer_17405899072149293 = null;\nvar warn = document.getElementById(\"3dmolwarning_17405899072149293\");\nif(warn) {\n    warn.parentNode.removeChild(warn);\n}\n$3Dmolpromise.then(function() {\nviewer_17405899072149293 = $3Dmol.createViewer(document.getElementById(\"3dmolviewer_17405899072149293\"),{backgroundColor:\"white\"});\nviewer_17405899072149293.zoomTo();\n\tviewer_17405899072149293.addModel(\"14\\n\\nO  -2.457446   0.998914  -0.305605\\nO  -1.484924   0.314573   0.225866\\nC  -0.372338   0.068698  -0.627852\\nC   0.736114   1.043837  -0.306583\\nC   1.813918   0.431300   0.148795\\nC   1.662648  -1.054223   0.204929\\nC   0.221634  -1.307818  -0.273211\\nH  -0.704304   0.164565  -1.668597\\nH   0.578998   2.099990  -0.430295\\nH   2.730540   0.913648   0.441655\\nH   2.393882  -1.538698  -0.444170\\nH   1.830955  -1.421746   1.218218\\nH   0.193323  -1.968109  -1.137041\\nH  -0.384510  -1.750163   0.515827\",\"xyz\");\n\tviewer_17405899072149293.setStyle({\"stick\": {}, \"sphere\": {\"scale\": 0.3}});\n\tviewer_17405899072149293.zoomTo();\nviewer_17405899072149293.render();\n});\n</script>",
      "text/html": [
       "<div id=\"3dmolviewer_17405899072149293\"  style=\"position: relative; width: 600px; height: 450px;\">\n",
       "        <p id=\"3dmolwarning_17405899072149293\" style=\"background-color:#ffcccc;color:black\">3Dmol.js failed to load for some reason.  Please check your browser console for error messages.<br></p>\n",
       "        </div>\n",
       "<script>\n",
       "\n",
       "var loadScriptAsync = function(uri){\n",
       "  return new Promise((resolve, reject) => {\n",
       "    //this is to ignore the existence of requirejs amd\n",
       "    var savedexports, savedmodule;\n",
       "    if (typeof exports !== 'undefined') savedexports = exports;\n",
       "    else exports = {}\n",
       "    if (typeof module !== 'undefined') savedmodule = module;\n",
       "    else module = {}\n",
       "\n",
       "    var tag = document.createElement('script');\n",
       "    tag.src = uri;\n",
       "    tag.async = true;\n",
       "    tag.onload = () => {\n",
       "        exports = savedexports;\n",
       "        module = savedmodule;\n",
       "        resolve();\n",
       "    };\n",
       "  var firstScriptTag = document.getElementsByTagName('script')[0];\n",
       "  firstScriptTag.parentNode.insertBefore(tag, firstScriptTag);\n",
       "});\n",
       "};\n",
       "\n",
       "if(typeof $3Dmolpromise === 'undefined') {\n",
       "$3Dmolpromise = null;\n",
       "  $3Dmolpromise = loadScriptAsync('https://cdnjs.cloudflare.com/ajax/libs/3Dmol/2.4.2/3Dmol-min.js');\n",
       "}\n",
       "\n",
       "var viewer_17405899072149293 = null;\n",
       "var warn = document.getElementById(\"3dmolwarning_17405899072149293\");\n",
       "if(warn) {\n",
       "    warn.parentNode.removeChild(warn);\n",
       "}\n",
       "$3Dmolpromise.then(function() {\n",
       "viewer_17405899072149293 = $3Dmol.createViewer(document.getElementById(\"3dmolviewer_17405899072149293\"),{backgroundColor:\"white\"});\n",
       "viewer_17405899072149293.zoomTo();\n",
       "\tviewer_17405899072149293.addModel(\"14\\n\\nO  -2.457446   0.998914  -0.305605\\nO  -1.484924   0.314573   0.225866\\nC  -0.372338   0.068698  -0.627852\\nC   0.736114   1.043837  -0.306583\\nC   1.813918   0.431300   0.148795\\nC   1.662648  -1.054223   0.204929\\nC   0.221634  -1.307818  -0.273211\\nH  -0.704304   0.164565  -1.668597\\nH   0.578998   2.099990  -0.430295\\nH   2.730540   0.913648   0.441655\\nH   2.393882  -1.538698  -0.444170\\nH   1.830955  -1.421746   1.218218\\nH   0.193323  -1.968109  -1.137041\\nH  -0.384510  -1.750163   0.515827\",\"xyz\");\n",
       "\tviewer_17405899072149293.setStyle({\"stick\": {}, \"sphere\": {\"scale\": 0.3}});\n",
       "\tviewer_17405899072149293.zoomTo();\n",
       "viewer_17405899072149293.render();\n",
       "});\n",
       "</script>"
      ]
     },
     "metadata": {},
     "output_type": "display_data"
    }
   ],
   "source": [
    "from protomol import geom\n",
    "\n",
    "geo = qc.struc.geometry(stc)\n",
    "geom.display(geo)"
   ]
  },
  {
   "cell_type": "code",
   "execution_count": null,
   "metadata": {},
   "outputs": [],
   "source": []
  }
 ],
 "metadata": {
  "kernelspec": {
   "display_name": "default",
   "language": "python",
   "name": "python3"
  },
  "language_info": {
   "codemirror_mode": {
    "name": "ipython",
    "version": 3
   },
   "file_extension": ".py",
   "mimetype": "text/x-python",
   "name": "python",
   "nbconvert_exporter": "python",
   "pygments_lexer": "ipython3",
   "version": "3.11.11"
  }
 },
 "nbformat": 4,
 "nbformat_minor": 2
}
