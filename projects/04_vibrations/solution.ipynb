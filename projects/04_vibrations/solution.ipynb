{
 "cells": [
  {
   "cell_type": "code",
   "execution_count": 1,
   "metadata": {},
   "outputs": [],
   "source": [
    "# 1. Add your previous structure optimization and Hessian calculation code as\n",
    "# functions in `util.py`\n",
    "import solution_util as util"
   ]
  },
  {
   "cell_type": "code",
   "execution_count": 2,
   "metadata": {},
   "outputs": [],
   "source": [
    "# 2. Calculate the Hessian of a molecule at its equilibrium structure with\n",
    "# GFN2-xTB.\n",
    "from protomol import smiles\n",
    "import numpy\n",
    "\n",
    "smi = \"O\"  # SMILES formula for propyl radical\n",
    "prog = \"crest\"\n",
    "model = {\"method\": \"gfn2\"}\n",
    "hess_path = \"./hess.dat\"\n",
    "recalculate = True\n",
    "\n",
    "# Generate a starting geometry for the SMILES formula\n",
    "geo0 = smiles.geometry(smi)\n",
    "\n",
    "# Optimize the equilibrium structure\n",
    "geo = util.equilibrium_geometry(geo0, prog=prog, model=model)\n",
    "\n",
    "if recalculate:\n",
    "    # Calculate the Hessian\n",
    "    # hess = util.hessian(geo0, prog=prog, model=model)\n",
    "    hess = util.hessian_direct(geo0, prog=prog, model=model)\n",
    "    numpy.savetxt(hess_path, hess)"
   ]
  },
  {
   "cell_type": "code",
   "execution_count": 3,
   "metadata": {},
   "outputs": [
    {
     "data": {
      "text/plain": [
       "[15.99491461926, 1.007825031898, 1.007825031898]"
      ]
     },
     "execution_count": 3,
     "metadata": {},
     "output_type": "execute_result"
    }
   ],
   "source": [
    "# 3. Use `mendeleev` to get the isotopic masses of the atoms in your molecule.\n",
    "from mendeleev import element\n",
    "from protomol import geom\n",
    "\n",
    "\n",
    "def isotopic_mass(symbol: str) -> float:\n",
    "    \"\"\"Get the isotopic mass of an element by symbol.\"\"\"\n",
    "    # 1. Determine the most abundant natural isotope\n",
    "    mass_number = element(symbol).mass_number\n",
    "    isotope = element(symbol).isotope(mass_number)\n",
    "    # 2. Return its mass\n",
    "    return isotope.mass\n",
    "\n",
    "\n",
    "masses = list(map(isotopic_mass, geom.symbols(geo)))\n",
    "masses"
   ]
  },
  {
   "cell_type": "code",
   "execution_count": 4,
   "metadata": {},
   "outputs": [],
   "source": [
    "# 4. Mass-weight the Hessian matrix.\n",
    "H = numpy.loadtxt(hess_path)\n",
    "M = numpy.diag(numpy.repeat(numpy.sqrt(masses) ** -1, 3))\n",
    "H_ = M @ H @ M"
   ]
  },
  {
   "cell_type": "code",
   "execution_count": 5,
   "metadata": {},
   "outputs": [
    {
     "data": {
      "text/plain": [
       "array([-4.42167247e-08, -9.88605723e-10,  1.36839611e-09,  9.78714498e-03,\n",
       "        1.23172365e-02,  1.45633012e-02,  9.54053927e-02,  3.88892647e-01,\n",
       "        4.25569812e-01])"
      ]
     },
     "execution_count": 5,
     "metadata": {},
     "output_type": "execute_result"
    }
   ],
   "source": [
    "# 5. Diagonalize the Hessian matrix.\n",
    "eig_vals, eig_vecs = numpy.linalg.eigh(H_)\n",
    "eig_vals"
   ]
  },
  {
   "cell_type": "code",
   "execution_count": 6,
   "metadata": {},
   "outputs": [],
   "source": [
    "# 6. Calculate the normal modes of vibration in Cartesian coordinates from your\n",
    "# eigenvectors.\n",
    "Q = M @ eig_vecs"
   ]
  },
  {
   "cell_type": "code",
   "execution_count": 7,
   "metadata": {},
   "outputs": [
    {
     "data": {
      "text/plain": [
       "[0.0,\n",
       " 0.0,\n",
       " 0.19015606951947703,\n",
       " 508.5483953226125,\n",
       " 570.5069222419068,\n",
       " 620.3462965266586,\n",
       " 1587.7815060162307,\n",
       " 3205.6724398173415,\n",
       " 3353.4333873855207]"
      ]
     },
     "execution_count": 7,
     "metadata": {},
     "output_type": "execute_result"
    }
   ],
   "source": [
    "# 7. Calculate the resonance frequencies of these normal modes in wavenumbers cm^-1.\n",
    "import pint\n",
    "\n",
    "k_vals = pint.Quantity(eig_vals, \"hartree / bohr^2 / dalton\").m_as(\"J / m^2 / kg\")\n",
    "f_vals = numpy.sqrt(numpy.clip(k_vals, a_min=0, a_max=None)) / (2 * numpy.pi)\n",
    "w_vals = f_vals / pint.Quantity(\"speed_of_light\").m_as(\"cm / s\")\n",
    "w_vals.tolist()"
   ]
  },
  {
   "cell_type": "code",
   "execution_count": 8,
   "metadata": {},
   "outputs": [
    {
     "data": {
      "application/3dmoljs_load.v0": "<div id=\"3dmolviewer_17458650818959963\"  style=\"position: relative; width: 400px; height: 400px;\">\n        <p id=\"3dmolwarning_17458650818959963\" style=\"background-color:#ffcccc;color:black\">3Dmol.js failed to load for some reason.  Please check your browser console for error messages.<br></p>\n        </div>\n<script>\n\nvar loadScriptAsync = function(uri){\n  return new Promise((resolve, reject) => {\n    //this is to ignore the existence of requirejs amd\n    var savedexports, savedmodule;\n    if (typeof exports !== 'undefined') savedexports = exports;\n    else exports = {}\n    if (typeof module !== 'undefined') savedmodule = module;\n    else module = {}\n\n    var tag = document.createElement('script');\n    tag.src = uri;\n    tag.async = true;\n    tag.onload = () => {\n        exports = savedexports;\n        module = savedmodule;\n        resolve();\n    };\n  var firstScriptTag = document.getElementsByTagName('script')[0];\n  firstScriptTag.parentNode.insertBefore(tag, firstScriptTag);\n});\n};\n\nif(typeof $3Dmolpromise === 'undefined') {\n$3Dmolpromise = null;\n  $3Dmolpromise = loadScriptAsync('https://cdnjs.cloudflare.com/ajax/libs/3Dmol/2.4.2/3Dmol-min.js');\n}\n\nvar viewer_17458650818959963 = null;\nvar warn = document.getElementById(\"3dmolwarning_17458650818959963\");\nif(warn) {\n    warn.parentNode.removeChild(warn);\n}\n$3Dmolpromise.then(function() {\nviewer_17458650818959963 = $3Dmol.createViewer(document.getElementById(\"3dmolviewer_17458650818959963\"),{backgroundColor:\"white\"});\nviewer_17458650818959963.zoomTo();\n\tviewer_17458650818959963.addModel(\"3\\n\\nO   0.002988   0.059086   0.000000  -0.051204  -0.031716  -0.000006\\nH  -0.766791  -0.513732   0.000000   0.793092   0.550488   0.000193\\nH   0.778041  -0.506886   0.000000   0.020171  -0.047123  -0.000118\",\"xyz\",{\"vibrate\": {\"frames\": 10, \"amplitude\": 1}});\n\tviewer_17458650818959963.setStyle({\"stick\": {}, \"sphere\": {\"scale\": 0.3}});\n\tviewer_17458650818959963.animate({\"loop\": \"backAndForth\"});\n\tviewer_17458650818959963.zoomTo();\nviewer_17458650818959963.render();\n});\n</script>",
      "text/html": [
       "<div id=\"3dmolviewer_17458650818959963\"  style=\"position: relative; width: 400px; height: 400px;\">\n",
       "        <p id=\"3dmolwarning_17458650818959963\" style=\"background-color:#ffcccc;color:black\">3Dmol.js failed to load for some reason.  Please check your browser console for error messages.<br></p>\n",
       "        </div>\n",
       "<script>\n",
       "\n",
       "var loadScriptAsync = function(uri){\n",
       "  return new Promise((resolve, reject) => {\n",
       "    //this is to ignore the existence of requirejs amd\n",
       "    var savedexports, savedmodule;\n",
       "    if (typeof exports !== 'undefined') savedexports = exports;\n",
       "    else exports = {}\n",
       "    if (typeof module !== 'undefined') savedmodule = module;\n",
       "    else module = {}\n",
       "\n",
       "    var tag = document.createElement('script');\n",
       "    tag.src = uri;\n",
       "    tag.async = true;\n",
       "    tag.onload = () => {\n",
       "        exports = savedexports;\n",
       "        module = savedmodule;\n",
       "        resolve();\n",
       "    };\n",
       "  var firstScriptTag = document.getElementsByTagName('script')[0];\n",
       "  firstScriptTag.parentNode.insertBefore(tag, firstScriptTag);\n",
       "});\n",
       "};\n",
       "\n",
       "if(typeof $3Dmolpromise === 'undefined') {\n",
       "$3Dmolpromise = null;\n",
       "  $3Dmolpromise = loadScriptAsync('https://cdnjs.cloudflare.com/ajax/libs/3Dmol/2.4.2/3Dmol-min.js');\n",
       "}\n",
       "\n",
       "var viewer_17458650818959963 = null;\n",
       "var warn = document.getElementById(\"3dmolwarning_17458650818959963\");\n",
       "if(warn) {\n",
       "    warn.parentNode.removeChild(warn);\n",
       "}\n",
       "$3Dmolpromise.then(function() {\n",
       "viewer_17458650818959963 = $3Dmol.createViewer(document.getElementById(\"3dmolviewer_17458650818959963\"),{backgroundColor:\"white\"});\n",
       "viewer_17458650818959963.zoomTo();\n",
       "\tviewer_17458650818959963.addModel(\"3\\n\\nO   0.002988   0.059086   0.000000  -0.051204  -0.031716  -0.000006\\nH  -0.766791  -0.513732   0.000000   0.793092   0.550488   0.000193\\nH   0.778041  -0.506886   0.000000   0.020171  -0.047123  -0.000118\",\"xyz\",{\"vibrate\": {\"frames\": 10, \"amplitude\": 1}});\n",
       "\tviewer_17458650818959963.setStyle({\"stick\": {}, \"sphere\": {\"scale\": 0.3}});\n",
       "\tviewer_17458650818959963.animate({\"loop\": \"backAndForth\"});\n",
       "\tviewer_17458650818959963.zoomTo();\n",
       "viewer_17458650818959963.render();\n",
       "});\n",
       "</script>"
      ]
     },
     "metadata": {},
     "output_type": "display_data"
    },
    {
     "name": "stdout",
     "output_type": "stream",
     "text": [
      "None\n"
     ]
    }
   ],
   "source": [
    "# 8. Write a function to visualize a normal mode using `py3Dmol`.\n",
    "from numpy.typing import ArrayLike\n",
    "import py3Dmol\n",
    "\n",
    "\n",
    "def xyz_string_with_mode(geo: geom.Geometry, mode: ArrayLike) -> str:\n",
    "    \"\"\"Serialize as xyz string including vibrational mode for animation.\"\"\"\n",
    "    natms = geom.count(geo)\n",
    "    symbs = geom.symbols(geo)\n",
    "    xyzs = geom.coordinates(geo, unit=\"angstrom\")\n",
    "    mode_xyzs = numpy.reshape(mode, (natms, 3)).tolist()\n",
    "    return f\"{natms}\\n\\n\" + \"\\n\".join(\n",
    "        f\"{s} {x:10.6f} {y:10.6f} {z:10.6f} {mx:10.6f} {my:10.6f} {mz:10.6f}\"\n",
    "        for s, (x, y, z), (mx, my, mz) in zip(symbs, xyzs, mode_xyzs, strict=True)\n",
    "    )\n",
    "\n",
    "\n",
    "def animate_mode(geo: geom.Geometry, mode: ArrayLike) -> None:\n",
    "    \"\"\"Animate vibrational mode.\"\"\"\n",
    "    xyz_str = xyz_string_with_mode(geo, mode=mode)\n",
    "\n",
    "    view = py3Dmol.view(width=400, height=400)\n",
    "    view.addModel(xyz_str, \"xyz\", {\"vibrate\": {\"frames\": 10, \"amplitude\": 1}})\n",
    "    view.setStyle({\"stick\": {}, \"sphere\": {\"scale\": 0.3}})\n",
    "    view.animate({\"loop\": \"backAndForth\"})\n",
    "    view.zoomTo()\n",
    "    view.show()\n",
    "\n",
    "\n",
    "# Note: The O-H stretching modes are unphysical (presumably an artifact of xTB?)\n",
    "print(animate_mode(geo, Q[:, 8]))"
   ]
  }
 ],
 "metadata": {
  "kernelspec": {
   "display_name": "default",
   "language": "python",
   "name": "python3"
  },
  "language_info": {
   "codemirror_mode": {
    "name": "ipython",
    "version": 3
   },
   "file_extension": ".py",
   "mimetype": "text/x-python",
   "name": "python",
   "nbconvert_exporter": "python",
   "pygments_lexer": "ipython3",
   "version": "3.11.11"
  }
 },
 "nbformat": 4,
 "nbformat_minor": 2
}
