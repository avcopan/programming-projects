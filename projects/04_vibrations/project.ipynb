{
 "cells": [
  {
   "cell_type": "markdown",
   "metadata": {},
   "source": [
    "### Project: Molecular Vibrations\n",
    "\n",
    "Do this exercise after reading through [background.ipynb](background.ipynb).\n",
    "\n",
    "**Project**: determine the frequencies and normal modes of a molecule. Steps:\n",
    "1. Add your previous structure optimization and Hessian calculation code as functions in [`util.py`](util.py).\n",
    "2. Calculate the Hessian of a molecule at its equilibrium structure with GFN2-xTB.\n",
    "3. Use\n",
    "[`mendeleev`](https://mendeleev.readthedocs.io/en/stable/notebooks/quick_start.html)\n",
    "to get the isotopic masses of the atoms in your molecule.\n",
    "4. Mass-weight the Hessian matrix.\n",
    "5. Diagonalize the Hessian matrix.\n",
    "6. Calculate the normal modes of vibration in Cartesian coordinates from your eigenvectors.\n",
    "7. Calculate the resonance frequencies of these normal modes in wavenumbers ($\\text{cm}^{-1}$).\n",
    "8. Write a function to [visualize a normal mode using `py3Dmol`](https://colab.research.google.com/drive/1T2zR59TXyWRcNxRgOAiqVPJWhep83NV_#scrollTo=L0V8SwajGx5U&line=3&uniqifier=1)."
   ]
  },
  {
   "cell_type": "code",
   "execution_count": null,
   "metadata": {},
   "outputs": [],
   "source": [
    "# 1. Add your previous structure optimization and Hessian calculation code as\n",
    "# functions in `util.py`\n",
    "print(\"Your code does not go here! Put your code in `util.py`\")"
   ]
  },
  {
   "cell_type": "code",
   "execution_count": null,
   "metadata": {},
   "outputs": [],
   "source": [
    "# 2. Calculate the Hessian of a molecule at its equilibrium structure with\n",
    "# GFN2-xTB.\n",
    "print(\"Your code goes here\")"
   ]
  },
  {
   "cell_type": "code",
   "execution_count": null,
   "metadata": {},
   "outputs": [],
   "source": [
    "# 3. Use `mendeleev` to get the isotopic masses of the atoms in your molecule.\n",
    "from mendeleev import element\n",
    "\n",
    "print(\"Some starter code is provided for you.\")\n",
    "\n",
    "\n",
    "def isotopic_mass(symbol: str) -> float:\n",
    "    \"\"\"Get the isotopic mass of an element by symbol.\"\"\"\n",
    "    # 1. Determine the most abundant natural isotope\n",
    "    mass_number = element(symbol).mass_number\n",
    "    isotope = element(symbol).isotope(mass_number)\n",
    "    # 2. Return its mass\n",
    "    return isotope.mass\n",
    "\n",
    "\n",
    "symbols = [\"C\", \"O\", \"H\", \"H\", \"H\"]\n",
    "masses = [isotopic_mass(s) for s in symbols]\n",
    "masses"
   ]
  },
  {
   "cell_type": "code",
   "execution_count": null,
   "metadata": {},
   "outputs": [],
   "source": [
    "# 4. Mass-weight the Hessian matrix.\n",
    "print(\"Your code goes here\")"
   ]
  },
  {
   "cell_type": "code",
   "execution_count": null,
   "metadata": {},
   "outputs": [],
   "source": [
    "# 5. Diagonalize the Hessian matrix.\n",
    "print(\"Your code goes here\")"
   ]
  },
  {
   "cell_type": "code",
   "execution_count": null,
   "metadata": {},
   "outputs": [],
   "source": [
    "# 6. Calculate the normal modes of vibration in Cartesian coordinates from your\n",
    "# eigenvectors.\n",
    "print(\"Your code goes here\")"
   ]
  },
  {
   "cell_type": "code",
   "execution_count": null,
   "metadata": {},
   "outputs": [],
   "source": [
    "# 7. Calculate the resonance frequencies of these normal modes in wavenumbers cm^-1.\n",
    "print(\"Your code goes here\")"
   ]
  },
  {
   "cell_type": "code",
   "execution_count": null,
   "metadata": {},
   "outputs": [],
   "source": [
    "# 8. Write a function to visualize a normal mode using `py3Dmol`.\n",
    "print(\"Your code goes here\")"
   ]
  }
 ],
 "metadata": {
  "kernelspec": {
   "display_name": "default",
   "language": "python",
   "name": "python3"
  },
  "language_info": {
   "codemirror_mode": {
    "name": "ipython",
    "version": 3
   },
   "file_extension": ".py",
   "mimetype": "text/x-python",
   "name": "python",
   "nbconvert_exporter": "python",
   "pygments_lexer": "ipython3",
   "version": "3.11.11"
  }
 },
 "nbformat": 4,
 "nbformat_minor": 2
}
